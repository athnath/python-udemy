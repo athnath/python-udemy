{
 "cells": [
  {
   "cell_type": "code",
   "execution_count": 39,
   "metadata": {
    "scrolled": true
   },
   "outputs": [],
   "source": [
    "from bokeh.charts import Scatter, output_file, show\n",
    "import pandas\n",
    "\n",
    "df = pandas.DataFrame(columns=[\"X\", \"Y\"])\n",
    "df[\"X\"]=[1,2,3,4,5]\n",
    "df[\"Y\"]=[5,6,4,5,3]\n",
    "\n",
    "p = Scatter(df, x=\"X\", y=\"Y\", title=\"Temperature Observations\", xlabel=\"Day of observations\", ylabel=\"Temperature\", tools='', logo=None)\n",
    "\n",
    "#mode\n",
    "# cdn - download css and js files from server\n",
    "# relative, absolute - store css and js files in temp bokeh folder. Paths are relative and absolute respectively\n",
    "# inline - css and js stores in html file\n",
    "output_file(\"Scatter_charts.html\", mode='cdn') \n",
    "\n",
    "show(p)"
   ]
  },
  {
   "cell_type": "code",
   "execution_count": 43,
   "metadata": {},
   "outputs": [],
   "source": [
    "from bokeh.plotting import figure, output_file, show\n",
    "\n",
    "p = figure(plot_width=500, plot_height=400, tools='pan, resize', logo=None)\n",
    "p.title.text=\"Earthquakes\"\n",
    "p.title.text_color=\"orange\"\n",
    "p.title.text_font=\"times\"\n",
    "p.title.text_font_style=\"bold\"\n",
    "p.title.text_font_size=\"15pt\"\n",
    "\n",
    "p.yaxis.minor_tick_line_color=\"red\" #None to remove ticks\n",
    "\n",
    "p.xaxis.axis_label = \"Times\"\n",
    "p.yaxis.axis_label = \"Value\"\n",
    "\n",
    "p.circle([1,2,3,4,5], [5,6,4,5,3], size=[i*2 for i in [8, 12, 14, 15, 20]], color=\"red\", alpha=0.5)\n",
    "# p.triangle([1,2,3,4,5], [5,6,4,5,3], size=12, color=\"red\", alpha=0.5)\n",
    "\n",
    "\n",
    "output_file(\"Scatter_plotting.html\")\n",
    "\n",
    "show(p)\n",
    "\n",
    "# help(p)\n",
    "# help(p.yaxis) for help"
   ]
  },
  {
   "cell_type": "code",
   "execution_count": 44,
   "metadata": {},
   "outputs": [],
   "source": [
    "from bokeh.plotting import figure, output_file, show\n",
    "import pandas\n",
    "\n",
    "df = pandas.read_csv(\"adbe.csv\", parse_dates=['Date'])\n",
    "\n",
    "p = figure(width=500, height=250, x_axis_type=\"datetime\", responsive=True)\n",
    "p.line(df[\"Date\"], df[\"Close\"], color=\"red\", alpha=0.5)\n",
    "output_file(\"Timeseries.html\")\n",
    "show(p)"
   ]
  },
  {
   "cell_type": "code",
   "execution_count": 45,
   "metadata": {},
   "outputs": [],
   "source": [
    "from bokeh.plotting import figure, output_file, show\n",
    "\n",
    "p = figure(plot_width=500, plot_height=400, tools='pan, resize', logo=None)\n",
    "p.title.text=\"Earthquakes\"\n",
    "p.title.text_color=\"orange\"\n",
    "p.title.text_font=\"times\"\n",
    "p.title.text_font_style=\"bold\"\n",
    "p.title.text_font_size=\"15pt\"\n",
    "\n",
    "p.yaxis.minor_tick_line_color=\"red\" #None to remove ticks\n",
    "\n",
    "p.xaxis.axis_label = \"Times\"\n",
    "p.yaxis.axis_label = \"Value\"\n",
    "\n",
    "p.circle([1,2,3,4,5], [5,6,4,5,3], size=[i*2 for i in [8, 12, 14, 15, 20]], color=\"red\", alpha=0.5)\n",
    "p.line([1,2,3,4,5], [5,6,4,5,3], line_width=2, color=\"blue\", alpha=0.5)\n",
    "\n",
    "\n",
    "output_file(\"Scatter_plotting.html\")\n",
    "\n",
    "show(p)\n",
    "\n",
    "# help(p)\n",
    "# help(p.yaxis) for help"
   ]
  }
 ],
 "metadata": {
  "kernelspec": {
   "display_name": "Python 3",
   "language": "python",
   "name": "python3"
  },
  "language_info": {
   "codemirror_mode": {
    "name": "ipython",
    "version": 3
   },
   "file_extension": ".py",
   "mimetype": "text/x-python",
   "name": "python",
   "nbconvert_exporter": "python",
   "pygments_lexer": "ipython3",
   "version": "3.6.4"
  }
 },
 "nbformat": 4,
 "nbformat_minor": 2
}
