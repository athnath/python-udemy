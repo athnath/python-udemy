{
 "cells": [
  {
   "cell_type": "code",
   "execution_count": 50,
   "metadata": {},
   "outputs": [],
   "source": [
    "import pandas\n",
    "from bokeh.plotting import figure, output_file, show\n",
    "\n",
    "df = pandas.read_excel(\"verlegenhuken.xlsx\").iloc[:,4:]\n",
    "Temperature = list(df[\"Temperature\"] / 10)\n",
    "Pressure = list(df[\"Pressure\"] / 10)\n",
    "\n",
    "p = figure(plot_width=500, plot_height=400, tools='pan', logo=None)\n",
    "p.title.text=\"Temperature and Air Preasure\"\n",
    "p.title.text_color=\"gray\"\n",
    "p.title.text_font=\"arial\"\n",
    "p.title.text_font_style=\"bold\"\n",
    "p.title.text_font_size=\"20pt\"\n",
    "\n",
    "p.xaxis.minor_tick_line_color = None\n",
    "p.yaxis.minor_tick_line_color = None\n",
    "\n",
    "p.xaxis.axis_label = \"Temperature (℃)\"\n",
    "p.xaxis.axis_label_text_font = \"arial\"\n",
    "p.xaxis.axis_label_text_font_style = \"normal\"\n",
    "p.xaxis.axis_label_text_font_size = \"18pt\"\n",
    "\n",
    "p.yaxis.axis_label = \"Preasure (hPa)\"\n",
    "p.yaxis.axis_label_text_font = \"arial\"\n",
    "p.yaxis.axis_label_text_font_style = \"normal\"\n",
    "p.yaxis.axis_label_text_font_size = \"18pt\"\n",
    "\n",
    "\n",
    "p.circle(Temperature, Pressure, size=0.5, color=\"#42d1f4\")\n",
    "\n",
    "output_file(\"Excercise_plotting.html\")\n",
    "\n",
    "show(p)\n"
   ]
  }
 ],
 "metadata": {
  "kernelspec": {
   "display_name": "Python 3",
   "language": "python",
   "name": "python3"
  },
  "language_info": {
   "codemirror_mode": {
    "name": "ipython",
    "version": 3
   },
   "file_extension": ".py",
   "mimetype": "text/x-python",
   "name": "python",
   "nbconvert_exporter": "python",
   "pygments_lexer": "ipython3",
   "version": "3.6.4"
  }
 },
 "nbformat": 4,
 "nbformat_minor": 2
}
